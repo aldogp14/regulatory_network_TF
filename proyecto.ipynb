{
 "cells": [
  {
   "cell_type": "code",
   "execution_count": 1,
   "metadata": {},
   "outputs": [],
   "source": [
    "# importar librerias\n",
    "import pandas as pd \n",
    "from io import StringIO\n",
    "import re"
   ]
  },
  {
   "cell_type": "markdown",
   "metadata": {},
   "source": [
    "github:\n",
    "Si se requiere más información o contexto sobre el código puedes ir a la carpeta 'metacode/' ahí encontrarás 'functions_dictionary.txt' y 'variables_dictionary.txt'. En estos archivos de texto se describe que hace cada función y que guarda cada variable, respectivamente."
   ]
  },
  {
   "cell_type": "code",
   "execution_count": 4,
   "metadata": {},
   "outputs": [],
   "source": [
    "# funcion para leer arhivos de texto tabulares con texto de encabezado\n",
    "def readTxts(location, begin):\n",
    "    with open(location , 'r') as f:\n",
    "        # leer por lineas para poder operarlo como lista de lineas\n",
    "        # begin tiene el numero de linea en donde ya empieza la tabla\n",
    "        output = f.readlines()[begin:]\n",
    "        return(output)\n",
    "    \n",
    "\n",
    "# funcion para sacar un patron (bnumbers) de cada linea   \n",
    "def getPatterns(lines, pattern):\n",
    "    patterns = []\n",
    "    # buscar en cada linea el patron que concuerda con la ocurrencia de un bnumber y guardarlos en una lista\n",
    "    for line in lines:\n",
    "        match = re.search(pattern, line)\n",
    "        if match:\n",
    "            extraction = match.group()\n",
    "            patterns.append(extraction)\n",
    "        else: patterns.append('')\n",
    "    return(patterns)\n",
    "\n",
    "\n",
    "# funcion para pasar de lista de lineas a un string de todo el texto\n",
    "def makeDF(lines, header_status=None):\n",
    "    table = ''.join(lines)\n",
    "    df = pd.read_csv(StringIO(table), delimiter='\\t', header=header_status)\n",
    "    return(df)\n",
    "\n",
    "\n",
    "# funcion para sustituir una columna con muchos valores (gene synonyms) por uno de interes (bnumber) \n",
    "def subsPatternToDF(df, subs, c_receptor):\n",
    "    df.iloc[:, c_receptor] = subs\n",
    "    return(df)\n"
   ]
  },
  {
   "cell_type": "code",
   "execution_count": 5,
   "metadata": {},
   "outputs": [],
   "source": [
    "# hacer el dataframe para el archivo RegulonDB_geneidentifiers.txt\n",
    "lines_gene_IDs = readTxts('data/RegulonDB_geneidentifiers.txt', 16)\n",
    "b_numbers = getPatterns(lines_gene_IDs, r'b\\d{4}')\n",
    "df_gene_IDs = makeDF(lines_gene_IDs)\n",
    "df_gene_IDs = subsPatternToDF(df_gene_IDs, b_numbers, 5)\n"
   ]
  },
  {
   "cell_type": "code",
   "execution_count": 6,
   "metadata": {},
   "outputs": [],
   "source": [
    "# hacer el dataframe para el archivo RegulonDB_NetworkTFGene.txt\n",
    "lines_TF_gene = readTxts('data/RegulonDB_NetworkTFGene.txt', 37)\n",
    "df_TF_gene = makeDF(lines_TF_gene, 0)\n"
   ]
  },
  {
   "cell_type": "code",
   "execution_count": 7,
   "metadata": {},
   "outputs": [],
   "source": [
    "# leer el archivo de la via y guardar, en otra variable, sus bnumbers asociados\n",
    "pathway = pd.read_csv('data/pathway_gns_test.txt', delimiter='\\t', header=None)\n",
    "bNumbers_pathway = pathway.iloc[:,1]"
   ]
  },
  {
   "cell_type": "code",
   "execution_count": 8,
   "metadata": {},
   "outputs": [
    {
     "name": "stdout",
     "output_type": "stream",
     "text": [
      "  bNumber  gene       TF\n",
      "0   b1270  btuR  unknown\n",
      "1   b1270  btuR  unknown\n",
      "2   b1993  cobU      Nac\n",
      "3   b1991  cobT      Nac\n",
      "4   b1992  cobS  unknown\n",
      "5   b1991  cobT      Nac\n",
      "6   b0638  cobC  unknown\n"
     ]
    }
   ],
   "source": [
    "# funcion, toma items de una lista y los busca en una columna para entregar el valor de otra columna de la misma fila\n",
    "def getInterest(df, list_search, c_to_search):\n",
    "    output_list = []\n",
    "    for item in list_search:\n",
    "        # regresa una lista con un True en la posicion en la que coincida la busqueda\n",
    "        match = df.loc[df.iloc[:, c_to_search] == item]\n",
    "        # sacar los indices de fila\n",
    "        # verificar que si exista un match, sino lo hay poner index_in_df vacio\n",
    "        if not match.empty:\n",
    "            index_in_df = match.index[0]\n",
    "        else: index_in_df = None\n",
    "        # guardar en output_list el valor de la columna de interes\n",
    "        # en base a si index_in_df tiene indice o vacio llenar segun sea el caso\n",
    "        if index_in_df != None:\n",
    "            output_list.append(df.iloc[index_in_df, 1])\n",
    "        else: output_list.append('unknown')\n",
    "\n",
    "    return(output_list)\n",
    "\n",
    "# funcion que transforma de bNumber a TF\n",
    "def getTFsPathway(initial_geneID):\n",
    "    genes = getInterest(df_gene_IDs, initial_geneID, 5) # la columna 5 contiene los bNumbers\n",
    "    TFs = getInterest(df_TF_gene, genes, 4) # la columna 4 contiene el nombre de los genes\n",
    "    output_df = pd.DataFrame({'bNumber': bNumbers_pathway, 'gene': genes, 'TF': TFs})\n",
    "    return(output_df)\n",
    "\n",
    "bN_gene_TF = getTFsPathway(bNumbers_pathway)\n",
    "print(bN_gene_TF)\n",
    "    "
   ]
  },
  {
   "cell_type": "code",
   "execution_count": 16,
   "metadata": {},
   "outputs": [
    {
     "name": "stdout",
     "output_type": "stream",
     "text": [
      "    subpath  fraction       TF\n",
      "0         7  0.428571      Nac\n",
      "1         6  0.500000      Nac\n",
      "2         6  0.500000      Nac\n",
      "3         5  0.400000      Nac\n",
      "4         5  0.600000      Nac\n",
      "5         5  0.600000      Nac\n",
      "6         4  0.500000      Nac\n",
      "7         4  0.500000      Nac\n",
      "8         4  0.750000      Nac\n",
      "9         4  0.500000      Nac\n",
      "10        3  0.333333      Nac\n",
      "11        3  0.666667      Nac\n",
      "12        3  0.666667      Nac\n",
      "13        3  0.666667      Nac\n",
      "14        3  0.333333      Nac\n",
      "15        2  1.000000  unknown\n",
      "16        2  0.500000      Nac\n",
      "17        2  1.000000      Nac\n",
      "18        2  0.500000      Nac\n",
      "19        2  0.500000      Nac\n",
      "20        2  0.500000      Nac\n"
     ]
    }
   ],
   "source": [
    "fractions = []\n",
    "type_subpath = []\n",
    "tf_most_ocurred = []\n",
    "\n",
    "# funcion que calcula la fraccion de una subvia controlada por un mismo TF, el mas ocurrente\n",
    "def getFraction(l, counts, case):\n",
    "    most_ocurrence = counts[case]\n",
    "    fractions.append(most_ocurrence/l)\n",
    "    tf_most_ocurred.append(counts.index[case])\n",
    "\n",
    "# funcion que prepara todo lo que necesita getFraction para despues llamarla\n",
    "def callerFraction(current_path, len_sub):\n",
    "    # .value_counts() saca, de una lista, cuantas veces ocurre cada item unico\n",
    "    counts = current_path.value_counts()\n",
    "    # sacar la longitud de la via \n",
    "    len_current_path = len(current_path)\n",
    "    # preguntar de que caso se trata, por lo general no queremos que se tomen en cuenta los 'unkwown's.\n",
    "    case = 0 if counts.idxmax() != 'unknown' or len(counts) == 1 else 1\n",
    "    getFraction(len_current_path, counts, case)\n",
    "    type_subpath.append(len_sub)\n",
    "\n",
    "# funcion que hace la particion de la via en subvias y pregunta si sus FTs son el mismo\n",
    "def getSubpathways():\n",
    "    # guardar en una variable unicamente los TFs, ya en orden, de la via\n",
    "    TFs = bN_gene_TF['TF']\n",
    "    len_path = len(TFs)\n",
    "    # en este primer for se van sacando los tamanos de subvia que puede haber. En este se recorren las sublongitudes\n",
    "    for len_sub in range(len_path, 1, -1):\n",
    "        when_stop = len_path-len_sub+1\n",
    "        final_pos = len_sub\n",
    "        # en este segundo for se van haciendo las subvias con el tamano acorde al primer for. En este se recorren las 'combinaciones' de cada sublongitud\n",
    "        for initial_pos in range(0, when_stop):\n",
    "            subpath = TFs[initial_pos:final_pos]\n",
    "            callerFraction(subpath, len_sub)\n",
    "            final_pos+=1\n",
    "    output = pd.DataFrame({'subpath': type_subpath, 'fraction': fractions, 'TF': tf_most_ocurred})   \n",
    "    return(output)\n",
    "\n",
    "# crear un data frame que contenga el tipo de subvia (longitud), la fraccion de la subvia gobernada por un solo TF y el TF en cuestion\n",
    "subpath_fractions_tf = getSubpathways()\n",
    "print(subpath_fractions_tf)"
   ]
  }
 ],
 "metadata": {
  "kernelspec": {
   "display_name": "Python 3",
   "language": "python",
   "name": "python3"
  },
  "language_info": {
   "codemirror_mode": {
    "name": "ipython",
    "version": 3
   },
   "file_extension": ".py",
   "mimetype": "text/x-python",
   "name": "python",
   "nbconvert_exporter": "python",
   "pygments_lexer": "ipython3",
   "version": "3.7.9"
  }
 },
 "nbformat": 4,
 "nbformat_minor": 2
}
